{
 "cells": [
  {
   "cell_type": "code",
   "execution_count": null,
   "id": "38ff38bd",
   "metadata": {},
   "outputs": [],
   "source": [
    "import torch\n",
    "import matplotlib.pyplot as plt\n",
    "import numpy as np\n",
    "from monai.transforms import LoadImage\n",
    "from src.models.neurosegnet import NeuroSegNet\n",
    "from src.xai.attention_rollout import AttentionRollout\n",
    "import yaml\n",
    "from pathlib import Path\n",
    "\n",
    "# Load config and model\n",
    "with open(\"configs/neurosegnet_config.yaml\", \"r\") as f:\n",
    "    config = yaml.safe_load(f)\n",
    "\n",
    "model = NeuroSegNet(config)\n",
    "checkpoint = torch.load(\"experiments/neurosegnet_v1/checkpoints/best_model.pth\", map_location=\"cpu\")\n",
    "model.load_state_dict(checkpoint[\"model_state_dict\"])\n",
    "model.eval()\n",
    "device = torch.device(\"cuda\" if torch.cuda.is_available() else \"cpu\")\n",
    "model = model.to(device)\n"
   ]
  },
  {
   "cell_type": "code",
   "execution_count": null,
   "id": "12998277",
   "metadata": {},
   "outputs": [],
   "source": [
    "# Load validation image\n",
    "image_path = sorted(Path(\"data/val_preprocessed/\").glob(\"*.nii.gz\"))[0]\n",
    "loader = LoadImage(image_only=True)\n",
    "img_np = loader(str(image_path))  # [H,W,D,C]\n",
    "img_np = np.moveaxis(img_np, -1, 0)  # [C,H,W,D]\n",
    "input_tensor = torch.tensor(img_np, dtype=torch.float32).unsqueeze(0).to(device)\n",
    "\n",
    "# Run attention rollout\n",
    "rollout = AttentionRollout(model, head_fusion='mean', discard_ratio=0.0)\n",
    "with torch.no_grad():\n",
    "    _ = model(input_tensor)\n",
    "\n",
    "attn_map = rollout.compute_rollout_attention()[0]  # (tokens x tokens)\n",
    "rollout.reset()\n",
    "\n",
    "# Show summary attention rollout heatmap\n",
    "plt.figure(figsize=(6,6))\n",
    "plt.imshow(attn_map.numpy(), cmap=\"viridis\")\n",
    "plt.title(\"Attention Rollout Map\")\n",
    "plt.colorbar()\n",
    "plt.show()\n"
   ]
  }
 ],
 "metadata": {
  "kernelspec": {
   "display_name": "brain_mri_env",
   "language": "python",
   "name": "python3"
  },
  "language_info": {
   "name": "python",
   "version": "3.10.16"
  }
 },
 "nbformat": 4,
 "nbformat_minor": 5
}
